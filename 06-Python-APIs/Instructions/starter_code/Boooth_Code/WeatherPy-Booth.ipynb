{
 "cells": [
  {
   "cell_type": "markdown",
   "metadata": {},
   "source": [
    "# WeatherPy\n",
    "----\n",
    "\n",
    "#### Note\n",
    "* Instructions have been included for each segment. You do not have to follow them exactly, but they are included to help you think through the steps."
   ]
  },
  {
   "cell_type": "code",
   "execution_count": 2,
   "metadata": {
    "scrolled": true
   },
   "outputs": [],
   "source": [
    "# Dependencies and Setup\n",
    "import matplotlib.pyplot as plt\n",
    "import pandas as pd\n",
    "import numpy as np\n",
    "import requests\n",
    "import time\n",
    "import json\n",
    "\n",
    "# regression\n",
    "import seaborn as sns\n",
    "from scipy import stats as st\n",
    "\n",
    "# linear modelling\n",
    "import statsmodels.api as sm\n",
    "from scipy.stats import linregress\n",
    "from sklearn.linear_model import LinearRegression\n",
    "\n",
    "# Import API key\n",
    "from api_keys import weather_api_key\n",
    "\n",
    "# Incorporated citipy to determine city based on latitude and longitude\n",
    "from citipy import citipy"
   ]
  },
  {
   "cell_type": "code",
   "execution_count": 3,
   "metadata": {},
   "outputs": [],
   "source": [
    "# Output File (CSV)\n",
    "output_data_file = \"output_data/cities_booth.csv\"\n",
    "\n",
    "# Range of latitudes and longitudes\n",
    "lat_range = (-90, 90)\n",
    "lng_range = (-180, 180)"
   ]
  },
  {
   "cell_type": "code",
   "execution_count": null,
   "metadata": {},
   "outputs": [],
   "source": []
  },
  {
   "cell_type": "markdown",
   "metadata": {},
   "source": [
    "## Generate Cities List"
   ]
  },
  {
   "cell_type": "code",
   "execution_count": 4,
   "metadata": {},
   "outputs": [
    {
     "data": {
      "text/plain": [
       "584"
      ]
     },
     "execution_count": 4,
     "metadata": {},
     "output_type": "execute_result"
    }
   ],
   "source": [
    "# List for holding lat_lngs and cities\n",
    "lat_lngs = []\n",
    "cities = []\n",
    "\n",
    "# Create a set of random lat and lng combinations\n",
    "lats = np.random.uniform(lat_range[0], lat_range[1], size=1500)\n",
    "lngs = np.random.uniform(lng_range[0], lng_range[1], size=1500)\n",
    "lat_lngs = zip(lats, lngs)\n",
    "\n",
    "# Identify nearest city for each lat, lng combination\n",
    "for lat_lng in lat_lngs:\n",
    "    city = citipy.nearest_city(lat_lng[0], lat_lng[1]).city_name\n",
    "    \n",
    "    # If the city is unique, then add it to a our cities list\n",
    "    if city not in cities:\n",
    "        cities.append(city)\n",
    "\n",
    "# Print the city count to confirm sufficient count\n",
    "len(cities)"
   ]
  },
  {
   "cell_type": "markdown",
   "metadata": {},
   "source": [
    "### Perform API Calls\n",
    "* Perform a weather check on each city using a series of successive API calls.\n",
    "* Include a print log of each city as it'sbeing processed (with the city number and city name).\n"
   ]
  },
  {
   "cell_type": "code",
   "execution_count": 5,
   "metadata": {
    "scrolled": true
   },
   "outputs": [
    {
     "data": {
      "text/plain": [
       "['belushya guba', 'zhangye', 'saint-philippe', 'hilo', 'rikitea']"
      ]
     },
     "execution_count": 5,
     "metadata": {},
     "output_type": "execute_result"
    }
   ],
   "source": [
    "cities[0:5]"
   ]
  },
  {
   "cell_type": "code",
   "execution_count": 8,
   "metadata": {},
   "outputs": [
    {
     "name": "stdout",
     "output_type": "stream",
     "text": [
      "\n",
      "Index: 0, City: belushya guba\n",
      "no lat/long for beringovskiy\n",
      "no lat/long for taolanaro\n",
      "\n",
      "Index: 50, City: grand-santi\n",
      "no lat/long for cherskiy\n",
      "no lat/long for tabiauea\n",
      "\n",
      "Index: 100, City: pevek\n",
      "no lat/long for meyungs\n",
      "no lat/long for chagda\n",
      "\n",
      "Index: 150, City: revelstoke\n",
      "\n",
      "Index: 200, City: labuhan\n",
      "no lat/long for novyy urengoy\n",
      "no lat/long for saleaula\n",
      "no lat/long for sembakung\n",
      "no lat/long for kawana waters\n",
      "no lat/long for sentyabrskiy\n",
      "\n",
      "Index: 250, City: soe\n",
      "\n",
      "Index: 300, City: port blair\n",
      "no lat/long for dzhusaly\n",
      "no lat/long for idenao\n",
      "no lat/long for nizhniy odes\n",
      "\n",
      "Index: 350, City: barentsburg\n",
      "no lat/long for lolua\n",
      "\n",
      "Index: 400, City: besenyotelek\n",
      "no lat/long for kannangad\n",
      "no lat/long for yar-sale\n",
      "no lat/long for kedrovyy\n",
      "\n",
      "Index: 450, City: kapit\n",
      "no lat/long for inderborskiy\n",
      "\n",
      "Index: 500, City: inuvik\n",
      "no lat/long for staryy nadym\n",
      "\n",
      "Index: 550, City: areni\n",
      "no lat/long for vradiyivka\n",
      "no lat/long for bardiyah\n"
     ]
    }
   ],
   "source": [
    "rows = []\n",
    "\n",
    "for i in range(len(cities)):\n",
    "    city = cities[i]\n",
    "    \n",
    "    # only print every 50th city\n",
    "    if i % 50 == 0:\n",
    "        print()\n",
    "        print(f\"Index: {i}, City: {city}\")\n",
    "    \n",
    "    row = {}\n",
    "    try:\n",
    "    \n",
    "        # get the geocode, lat and long\n",
    "        url = f\"http://api.openweathermap.org/geo/1.0/direct?q={city}&appid={weather_api_key}\"\n",
    "        response = requests.get(url)\n",
    "\n",
    "        if (response.status_code == 200):\n",
    "            data = response.json()\n",
    "\n",
    "            # parse data\n",
    "            if (len(data) > 0):\n",
    "                lat = data[0][\"lat\"]\n",
    "                lon = data[0][\"lon\"]\n",
    "\n",
    "                # make second request to get weather\n",
    "                url2 = f'https://api.openweathermap.org/data/2.5/weather?lat={lat}&lon={lon}&appid={weather_api_key}&units=imperial'\n",
    "                response2 = requests.get(url2)\n",
    "\n",
    "                if (response2.status_code == 200):\n",
    "                    data2 = response2.json()\n",
    "\n",
    "                    # parse data\n",
    "                    weather = data2[\"weather\"][0][\"main\"]\n",
    "                    temp = data2[\"main\"][\"temp\"]\n",
    "                    humid = data2[\"main\"][\"humidity\"]\n",
    "                    pressure = data2[\"main\"][\"pressure\"]\n",
    "                    wind = data2[\"wind\"][\"speed\"]\n",
    "                else:\n",
    "                    print(f\"Weather request failed for {city}\")\n",
    "                    weather = None\n",
    "                    temp = np.nan\n",
    "                    humid = np.nan\n",
    "                    pressure = np.nan\n",
    "                    wind = np.nan\n",
    "\n",
    "                # put into flat dictionary\n",
    "                row[\"city\"] = city\n",
    "                row[\"latitude\"] = lat\n",
    "                row[\"longitude\"] = lon\n",
    "                row[\"weather\"] = weather\n",
    "                row[\"temperature\"] = temp\n",
    "                row[\"humidity\"] = humid\n",
    "                row[\"pressure\"] = pressure\n",
    "                row[\"wind_speed\"] = wind\n",
    "\n",
    "                # append to list\n",
    "                rows.append(row)\n",
    "\n",
    "            else:\n",
    "                print(f\"no lat/long for {city}\")\n",
    "                pass\n",
    "        else:\n",
    "            print(f\"failed request for geocode for {city}\")\n",
    "            pass\n",
    "    except Exception as e:\n",
    "        print(e)\n",
    "        print(f\"Oh no! Everything failed and broke for {city}. There should be an error above. Sux\")\n",
    "        print()\n",
    "        \n",
    "    # sleep\n",
    "    time.sleep(2)"
   ]
  },
  {
   "cell_type": "code",
   "execution_count": null,
   "metadata": {},
   "outputs": [],
   "source": []
  },
  {
   "cell_type": "markdown",
   "metadata": {},
   "source": [
    "### Convert Raw Data to DataFrame\n",
    "* Export the city data into a .csv.\n",
    "* Display the DataFrame"
   ]
  },
  {
   "cell_type": "code",
   "execution_count": 9,
   "metadata": {},
   "outputs": [
    {
     "data": {
      "text/html": [
       "<div>\n",
       "<style scoped>\n",
       "    .dataframe tbody tr th:only-of-type {\n",
       "        vertical-align: middle;\n",
       "    }\n",
       "\n",
       "    .dataframe tbody tr th {\n",
       "        vertical-align: top;\n",
       "    }\n",
       "\n",
       "    .dataframe thead th {\n",
       "        text-align: right;\n",
       "    }\n",
       "</style>\n",
       "<table border=\"1\" class=\"dataframe\">\n",
       "  <thead>\n",
       "    <tr style=\"text-align: right;\">\n",
       "      <th></th>\n",
       "      <th>city</th>\n",
       "      <th>latitude</th>\n",
       "      <th>longitude</th>\n",
       "      <th>weather</th>\n",
       "      <th>temperature</th>\n",
       "      <th>humidity</th>\n",
       "      <th>pressure</th>\n",
       "      <th>wind_speed</th>\n",
       "    </tr>\n",
       "  </thead>\n",
       "  <tbody>\n",
       "    <tr>\n",
       "      <th>0</th>\n",
       "      <td>belushya guba</td>\n",
       "      <td>71.537698</td>\n",
       "      <td>52.342734</td>\n",
       "      <td>Clouds</td>\n",
       "      <td>19.02</td>\n",
       "      <td>90</td>\n",
       "      <td>1012</td>\n",
       "      <td>3.38</td>\n",
       "    </tr>\n",
       "    <tr>\n",
       "      <th>1</th>\n",
       "      <td>zhangye</td>\n",
       "      <td>38.936513</td>\n",
       "      <td>100.455633</td>\n",
       "      <td>Clear</td>\n",
       "      <td>38.43</td>\n",
       "      <td>37</td>\n",
       "      <td>1016</td>\n",
       "      <td>5.26</td>\n",
       "    </tr>\n",
       "    <tr>\n",
       "      <th>2</th>\n",
       "      <td>saint-philippe</td>\n",
       "      <td>45.358450</td>\n",
       "      <td>-73.479005</td>\n",
       "      <td>Clear</td>\n",
       "      <td>42.69</td>\n",
       "      <td>46</td>\n",
       "      <td>1038</td>\n",
       "      <td>13.80</td>\n",
       "    </tr>\n",
       "    <tr>\n",
       "      <th>3</th>\n",
       "      <td>hilo</td>\n",
       "      <td>19.707373</td>\n",
       "      <td>-155.081580</td>\n",
       "      <td>Rain</td>\n",
       "      <td>76.28</td>\n",
       "      <td>82</td>\n",
       "      <td>1021</td>\n",
       "      <td>6.91</td>\n",
       "    </tr>\n",
       "    <tr>\n",
       "      <th>4</th>\n",
       "      <td>rikitea</td>\n",
       "      <td>-23.122954</td>\n",
       "      <td>-134.968014</td>\n",
       "      <td>Clouds</td>\n",
       "      <td>75.54</td>\n",
       "      <td>89</td>\n",
       "      <td>1015</td>\n",
       "      <td>14.25</td>\n",
       "    </tr>\n",
       "  </tbody>\n",
       "</table>\n",
       "</div>"
      ],
      "text/plain": [
       "             city   latitude   longitude weather  temperature  humidity  \\\n",
       "0   belushya guba  71.537698   52.342734  Clouds        19.02        90   \n",
       "1         zhangye  38.936513  100.455633   Clear        38.43        37   \n",
       "2  saint-philippe  45.358450  -73.479005   Clear        42.69        46   \n",
       "3            hilo  19.707373 -155.081580    Rain        76.28        82   \n",
       "4         rikitea -23.122954 -134.968014  Clouds        75.54        89   \n",
       "\n",
       "   pressure  wind_speed  \n",
       "0      1012        3.38  \n",
       "1      1016        5.26  \n",
       "2      1038       13.80  \n",
       "3      1021        6.91  \n",
       "4      1015       14.25  "
      ]
     },
     "execution_count": 9,
     "metadata": {},
     "output_type": "execute_result"
    }
   ],
   "source": [
    "df = pd.DataFrame(rows)\n",
    "df.head()"
   ]
  },
  {
   "cell_type": "code",
   "execution_count": 10,
   "metadata": {},
   "outputs": [
    {
     "name": "stdout",
     "output_type": "stream",
     "text": [
      "<class 'pandas.core.frame.DataFrame'>\n",
      "RangeIndex: 562 entries, 0 to 561\n",
      "Data columns (total 8 columns):\n",
      " #   Column       Non-Null Count  Dtype  \n",
      "---  ------       --------------  -----  \n",
      " 0   city         562 non-null    object \n",
      " 1   latitude     562 non-null    float64\n",
      " 2   longitude    562 non-null    float64\n",
      " 3   weather      562 non-null    object \n",
      " 4   temperature  562 non-null    float64\n",
      " 5   humidity     562 non-null    int64  \n",
      " 6   pressure     562 non-null    int64  \n",
      " 7   wind_speed   562 non-null    float64\n",
      "dtypes: float64(4), int64(2), object(2)\n",
      "memory usage: 35.2+ KB\n"
     ]
    }
   ],
   "source": [
    "df.info()"
   ]
  },
  {
   "cell_type": "code",
   "execution_count": 11,
   "metadata": {},
   "outputs": [],
   "source": [
    "df.to_csv(output_data_file, index=False)"
   ]
  },
  {
   "cell_type": "code",
   "execution_count": null,
   "metadata": {},
   "outputs": [],
   "source": []
  },
  {
   "cell_type": "markdown",
   "metadata": {},
   "source": [
    "## Inspect the data and remove the cities where the humidity > 100%.\n",
    "----\n",
    "Skip this step if there are no cities that have humidity > 100%. "
   ]
  },
  {
   "cell_type": "code",
   "execution_count": 12,
   "metadata": {},
   "outputs": [
    {
     "data": {
      "text/html": [
       "<div>\n",
       "<style scoped>\n",
       "    .dataframe tbody tr th:only-of-type {\n",
       "        vertical-align: middle;\n",
       "    }\n",
       "\n",
       "    .dataframe tbody tr th {\n",
       "        vertical-align: top;\n",
       "    }\n",
       "\n",
       "    .dataframe thead th {\n",
       "        text-align: right;\n",
       "    }\n",
       "</style>\n",
       "<table border=\"1\" class=\"dataframe\">\n",
       "  <thead>\n",
       "    <tr style=\"text-align: right;\">\n",
       "      <th></th>\n",
       "      <th>city</th>\n",
       "      <th>latitude</th>\n",
       "      <th>longitude</th>\n",
       "      <th>weather</th>\n",
       "      <th>temperature</th>\n",
       "      <th>humidity</th>\n",
       "      <th>pressure</th>\n",
       "      <th>wind_speed</th>\n",
       "    </tr>\n",
       "  </thead>\n",
       "  <tbody>\n",
       "    <tr>\n",
       "      <th>0</th>\n",
       "      <td>belushya guba</td>\n",
       "      <td>71.537698</td>\n",
       "      <td>52.342734</td>\n",
       "      <td>Clouds</td>\n",
       "      <td>19.02</td>\n",
       "      <td>90</td>\n",
       "      <td>1012</td>\n",
       "      <td>3.38</td>\n",
       "    </tr>\n",
       "    <tr>\n",
       "      <th>1</th>\n",
       "      <td>zhangye</td>\n",
       "      <td>38.936513</td>\n",
       "      <td>100.455633</td>\n",
       "      <td>Clear</td>\n",
       "      <td>38.43</td>\n",
       "      <td>37</td>\n",
       "      <td>1016</td>\n",
       "      <td>5.26</td>\n",
       "    </tr>\n",
       "    <tr>\n",
       "      <th>2</th>\n",
       "      <td>saint-philippe</td>\n",
       "      <td>45.358450</td>\n",
       "      <td>-73.479005</td>\n",
       "      <td>Clear</td>\n",
       "      <td>42.69</td>\n",
       "      <td>46</td>\n",
       "      <td>1038</td>\n",
       "      <td>13.80</td>\n",
       "    </tr>\n",
       "    <tr>\n",
       "      <th>3</th>\n",
       "      <td>hilo</td>\n",
       "      <td>19.707373</td>\n",
       "      <td>-155.081580</td>\n",
       "      <td>Rain</td>\n",
       "      <td>76.28</td>\n",
       "      <td>82</td>\n",
       "      <td>1021</td>\n",
       "      <td>6.91</td>\n",
       "    </tr>\n",
       "    <tr>\n",
       "      <th>4</th>\n",
       "      <td>rikitea</td>\n",
       "      <td>-23.122954</td>\n",
       "      <td>-134.968014</td>\n",
       "      <td>Clouds</td>\n",
       "      <td>75.54</td>\n",
       "      <td>89</td>\n",
       "      <td>1015</td>\n",
       "      <td>14.25</td>\n",
       "    </tr>\n",
       "  </tbody>\n",
       "</table>\n",
       "</div>"
      ],
      "text/plain": [
       "             city   latitude   longitude weather  temperature  humidity  \\\n",
       "0   belushya guba  71.537698   52.342734  Clouds        19.02        90   \n",
       "1         zhangye  38.936513  100.455633   Clear        38.43        37   \n",
       "2  saint-philippe  45.358450  -73.479005   Clear        42.69        46   \n",
       "3            hilo  19.707373 -155.081580    Rain        76.28        82   \n",
       "4         rikitea -23.122954 -134.968014  Clouds        75.54        89   \n",
       "\n",
       "   pressure  wind_speed  \n",
       "0      1012        3.38  \n",
       "1      1016        5.26  \n",
       "2      1038       13.80  \n",
       "3      1021        6.91  \n",
       "4      1015       14.25  "
      ]
     },
     "execution_count": 12,
     "metadata": {},
     "output_type": "execute_result"
    }
   ],
   "source": [
    "df = pd.read_csv(output_data_file)\n",
    "df.head()"
   ]
  },
  {
   "cell_type": "code",
   "execution_count": 13,
   "metadata": {},
   "outputs": [
    {
     "data": {
      "text/html": [
       "<div>\n",
       "<style scoped>\n",
       "    .dataframe tbody tr th:only-of-type {\n",
       "        vertical-align: middle;\n",
       "    }\n",
       "\n",
       "    .dataframe tbody tr th {\n",
       "        vertical-align: top;\n",
       "    }\n",
       "\n",
       "    .dataframe thead th {\n",
       "        text-align: right;\n",
       "    }\n",
       "</style>\n",
       "<table border=\"1\" class=\"dataframe\">\n",
       "  <thead>\n",
       "    <tr style=\"text-align: right;\">\n",
       "      <th></th>\n",
       "      <th>city</th>\n",
       "      <th>latitude</th>\n",
       "      <th>longitude</th>\n",
       "      <th>weather</th>\n",
       "      <th>temperature</th>\n",
       "      <th>humidity</th>\n",
       "      <th>pressure</th>\n",
       "      <th>wind_speed</th>\n",
       "    </tr>\n",
       "  </thead>\n",
       "  <tbody>\n",
       "  </tbody>\n",
       "</table>\n",
       "</div>"
      ],
      "text/plain": [
       "Empty DataFrame\n",
       "Columns: [city, latitude, longitude, weather, temperature, humidity, pressure, wind_speed]\n",
       "Index: []"
      ]
     },
     "execution_count": 13,
     "metadata": {},
     "output_type": "execute_result"
    }
   ],
   "source": [
    "#  Get the indices of cities that have humidity over 100%.\n",
    "mask = df.humidity > 100\n",
    "df.loc[mask]"
   ]
  },
  {
   "cell_type": "code",
   "execution_count": null,
   "metadata": {},
   "outputs": [],
   "source": [
    "# Make a new DataFrame equal to the city data to drop all humidity outliers by index.\n",
    "# Passing \"inplace=False\" will make a copy of the city_data DataFrame, which we call \"clean_city_data\".\n"
   ]
  },
  {
   "cell_type": "code",
   "execution_count": null,
   "metadata": {},
   "outputs": [],
   "source": [
    "\n"
   ]
  },
  {
   "cell_type": "markdown",
   "metadata": {},
   "source": [
    "## Plotting the Data\n",
    "* Use proper labeling of the plots using plot titles (including date of analysis) and axes labels.\n",
    "* Save the plotted figures as .pngs."
   ]
  },
  {
   "cell_type": "markdown",
   "metadata": {},
   "source": [
    "## Latitude vs. Temperature Plot"
   ]
  },
  {
   "cell_type": "code",
   "execution_count": 14,
   "metadata": {
    "scrolled": true
   },
   "outputs": [
    {
     "data": {
      "image/png": "[encoded data removed]",
      "text/plain": [
       "<Figure size 1000x600 with 1 Axes>"
      ]
     },
     "metadata": {},
     "output_type": "display_data"
    }
   ],
   "source": [
    "plt.figure(figsize=(10,6))\n",
    "plt.scatter(df.latitude, df.temperature)\n",
    "plt.title(\"Latitude vs Temperature - 11/08/2022\")\n",
    "plt.show()"
   ]
  },
  {
   "cell_type": "code",
   "execution_count": null,
   "metadata": {},
   "outputs": [],
   "source": []
  },
  {
   "cell_type": "markdown",
   "metadata": {},
   "source": [
    "## Latitude vs. Humidity Plot"
   ]
  },
  {
   "cell_type": "code",
   "execution_count": null,
   "metadata": {},
   "outputs": [],
   "source": []
  },
  {
   "cell_type": "markdown",
   "metadata": {},
   "source": [
    "## Latitude vs. Cloudiness Plot"
   ]
  },
  {
   "cell_type": "code",
   "execution_count": null,
   "metadata": {},
   "outputs": [],
   "source": []
  },
  {
   "cell_type": "markdown",
   "metadata": {},
   "source": [
    "## Latitude vs. Wind Speed Plot"
   ]
  },
  {
   "cell_type": "code",
   "execution_count": null,
   "metadata": {},
   "outputs": [],
   "source": []
  },
  {
   "cell_type": "markdown",
   "metadata": {},
   "source": [
    "## Linear Regression"
   ]
  },
  {
   "cell_type": "code",
   "execution_count": null,
   "metadata": {},
   "outputs": [],
   "source": []
  },
  {
   "cell_type": "markdown",
   "metadata": {},
   "source": [
    "####  Northern Hemisphere - Max Temp vs. Latitude Linear Regression"
   ]
  },
  {
   "cell_type": "code",
   "execution_count": 19,
   "metadata": {},
   "outputs": [
    {
     "name": "stdout",
     "output_type": "stream",
     "text": [
      "The r-squared is: 0.7285852412623343\n"
     ]
    },
    {
     "data": {
      "image/png": "[encoded data removed]",
      "text/plain": [
       "<Figure size 640x480 with 1 Axes>"
      ]
     },
     "metadata": {},
     "output_type": "display_data"
    }
   ],
   "source": [
    "df2 = df.loc[df.latitude > 0].reset_index(drop=True)\n",
    "\n",
    "# Print out the r-squared value along with the plot.\n",
    "x_values = df2['latitude']\n",
    "y_values = df2['temperature']\n",
    "\n",
    "(slope, intercept, rvalue, pvalue, stderr) = linregress(x_values, y_values)\n",
    "regress_values = x_values * slope + intercept\n",
    "line_eq = \"y = \" + str(round(slope,2)) + \"x + \" + str(round(intercept,2))\n",
    "\n",
    "plt.scatter(x_values,y_values)\n",
    "plt.plot(x_values,regress_values,\"r-\")\n",
    "plt.annotate(line_eq,(10,0),fontsize=15,color=\"red\")\n",
    "plt.xlabel('latitude')\n",
    "plt.ylabel('temperature')\n",
    "print(f\"The r-squared is: {rvalue**2}\")\n",
    "plt.show()"
   ]
  },
  {
   "cell_type": "markdown",
   "metadata": {},
   "source": [
    "####  Southern Hemisphere - Max Temp vs. Latitude Linear Regression"
   ]
  },
  {
   "cell_type": "code",
   "execution_count": 22,
   "metadata": {},
   "outputs": [
    {
     "name": "stdout",
     "output_type": "stream",
     "text": [
      "The r-squared is: 0.3266768647996226\n"
     ]
    },
    {
     "data": {
      "image/png": "[encoded data removed]",
      "text/plain": [
       "<Figure size 640x480 with 1 Axes>"
      ]
     },
     "metadata": {},
     "output_type": "display_data"
    }
   ],
   "source": [
    "df2 = df.loc[df.latitude < 0].reset_index(drop=True)\n",
    "\n",
    "# Print out the r-squared value along with the plot.\n",
    "x_values = df2['latitude']\n",
    "y_values = df2['temperature']\n",
    "\n",
    "(slope, intercept, rvalue, pvalue, stderr) = linregress(x_values, y_values)\n",
    "regress_values = x_values * slope + intercept\n",
    "line_eq = \"y = \" + str(round(slope,2)) + \"x + \" + str(round(intercept,2))\n",
    "\n",
    "plt.scatter(x_values,y_values)\n",
    "plt.plot(x_values,regress_values,\"r-\")\n",
    "plt.annotate(line_eq,(-50,82),fontsize=15,color=\"red\")\n",
    "plt.xlabel('latitude')\n",
    "plt.ylabel('temperature')\n",
    "print(f\"The r-squared is: {rvalue**2}\")\n",
    "plt.show()"
   ]
  },
  {
   "cell_type": "markdown",
   "metadata": {},
   "source": [
    "####  Northern Hemisphere - Humidity (%) vs. Latitude Linear Regression"
   ]
  },
  {
   "cell_type": "code",
   "execution_count": null,
   "metadata": {},
   "outputs": [],
   "source": []
  },
  {
   "cell_type": "markdown",
   "metadata": {},
   "source": [
    "####  Southern Hemisphere - Humidity (%) vs. Latitude Linear Regression"
   ]
  },
  {
   "cell_type": "code",
   "execution_count": null,
   "metadata": {},
   "outputs": [],
   "source": []
  },
  {
   "cell_type": "markdown",
   "metadata": {},
   "source": [
    "####  Northern Hemisphere - Cloudiness (%) vs. Latitude Linear Regression"
   ]
  },
  {
   "cell_type": "code",
   "execution_count": null,
   "metadata": {},
   "outputs": [],
   "source": []
  },
  {
   "cell_type": "markdown",
   "metadata": {},
   "source": [
    "####  Southern Hemisphere - Cloudiness (%) vs. Latitude Linear Regression"
   ]
  },
  {
   "cell_type": "code",
   "execution_count": null,
   "metadata": {},
   "outputs": [],
   "source": []
  },
  {
   "cell_type": "markdown",
   "metadata": {},
   "source": [
    "####  Northern Hemisphere - Wind Speed (mph) vs. Latitude Linear Regression"
   ]
  },
  {
   "cell_type": "code",
   "execution_count": null,
   "metadata": {},
   "outputs": [],
   "source": []
  },
  {
   "cell_type": "markdown",
   "metadata": {},
   "source": [
    "####  Southern Hemisphere - Wind Speed (mph) vs. Latitude Linear Regression"
   ]
  },
  {
   "cell_type": "code",
   "execution_count": null,
   "metadata": {},
   "outputs": [],
   "source": []
  },
  {
   "cell_type": "code",
   "execution_count": null,
   "metadata": {},
   "outputs": [],
   "source": []
  }
 ],
 "metadata": {
  "anaconda-cloud": {},
  "kernel_info": {
   "name": "python3"
  },
  "kernelspec": {
   "display_name": "Python 3 (ipykernel)",
   "language": "python",
   "name": "python3"
  },
  "language_info": {
   "codemirror_mode": {
    "name": "ipython",
    "version": 3
   },
   "file_extension": ".py",
   "mimetype": "text/x-python",
   "name": "python",
   "nbconvert_exporter": "python",
   "pygments_lexer": "ipython3",
   "version": "3.9.12"
  },
  "latex_envs": {
   "LaTeX_envs_menu_present": true,
   "autoclose": false,
   "autocomplete": true,
   "bibliofile": "biblio.bib",
   "cite_by": "apalike",
   "current_citInitial": 1,
   "eqLabelWithNumbers": true,
   "eqNumInitial": 1,
   "hotkeys": {
    "equation": "Ctrl-E",
    "itemize": "Ctrl-I"
   },
   "labels_anchors": false,
   "latex_user_defs": false,
   "report_style_numbering": false,
   "user_envs_cfg": false
  },
  "nteract": {
   "version": "0.12.3"
  }
 },
 "nbformat": 4,
 "nbformat_minor": 2
}
